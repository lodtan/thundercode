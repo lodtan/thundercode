{
 "cells": [
  {
   "cell_type": "code",
   "execution_count": 3,
   "metadata": {},
   "outputs": [],
   "source": [
    "import xml.etree.cElementTree as et\n",
    "import pandas as pd"
   ]
  },
  {
   "cell_type": "code",
   "execution_count": 2,
   "metadata": {},
   "outputs": [],
   "source": [
    "posts_path = \"C:/Users/etan/Documents/Données/Posts.xml\"\n",
    "users_path = \"C:/Users/etan/Documents/Données/Users.xml\"\n",
    "tags_path = \"C:/Users/etan/Documents/Données/Tags.xml\"\n"
   ]
  },
  {
   "cell_type": "code",
   "execution_count": 1,
   "metadata": {},
   "outputs": [],
   "source": [
    "dfcols = ['Id', 'PostHistoryTypeId', 'PostId', 'RevisionGUID', 'CreationDate', 'UserId', 'Text']"
   ]
  },
  {
   "cell_type": "code",
   "execution_count": null,
   "metadata": {},
   "outputs": [],
   "source": [
    "root = et.parse(path)\n",
    "rows = root.findall('.//row')\n",
    "\n",
    "# NESTED LIST\n",
    "xml_data = [[row.get('Id'), row.get('PostHistoryTypeId'), row.get('PostId'), row.get('RevisionGUID'), row.get('CreationDate'), row.get('UserId'), row.get('Text')] \n",
    "            for row in rows]\n",
    "\n",
    "df_xml = pd.DataFrame(xml_data, columns=dfcols)\n",
    "\n",
    "df_xml.head()"
   ]
  }
 ],
 "metadata": {
  "kernelspec": {
   "display_name": "Python [conda env:solutec] *",
   "language": "python",
   "name": "conda-env-solutec-py"
  },
  "language_info": {
   "codemirror_mode": {
    "name": "ipython",
    "version": 3
   },
   "file_extension": ".py",
   "mimetype": "text/x-python",
   "name": "python",
   "nbconvert_exporter": "python",
   "pygments_lexer": "ipython3",
   "version": "3.7.4"
  }
 },
 "nbformat": 4,
 "nbformat_minor": 2
}
