{
 "cells": [
  {
   "cell_type": "code",
   "execution_count": 1,
   "metadata": {},
   "outputs": [],
   "source": [
    "#with open(\"Untitled Folder/file_0.xml\", encoding=\"utf8\") as file:\n",
    "\n",
    "import xml.etree.cElementTree as et\n",
    "import pandas as pd"
   ]
  },
  {
   "cell_type": "code",
   "execution_count": 2,
   "metadata": {},
   "outputs": [],
   "source": [
    "path = 'Untitled Folder/file_0.xml'\n",
    "dfcols = ['Id', 'PostHistoryTypeId', 'PostId', 'RevisionGUID', 'CreationDate', 'UserId', 'Text']"
   ]
  },
  {
   "cell_type": "code",
   "execution_count": 3,
   "metadata": {},
   "outputs": [
    {
     "data": {
      "text/html": [
       "<div>\n",
       "<style scoped>\n",
       "    .dataframe tbody tr th:only-of-type {\n",
       "        vertical-align: middle;\n",
       "    }\n",
       "\n",
       "    .dataframe tbody tr th {\n",
       "        vertical-align: top;\n",
       "    }\n",
       "\n",
       "    .dataframe thead th {\n",
       "        text-align: right;\n",
       "    }\n",
       "</style>\n",
       "<table border=\"1\" class=\"dataframe\">\n",
       "  <thead>\n",
       "    <tr style=\"text-align: right;\">\n",
       "      <th></th>\n",
       "      <th>Id</th>\n",
       "      <th>PostHistoryTypeId</th>\n",
       "      <th>PostId</th>\n",
       "      <th>RevisionGUID</th>\n",
       "      <th>CreationDate</th>\n",
       "      <th>UserId</th>\n",
       "      <th>Text</th>\n",
       "    </tr>\n",
       "  </thead>\n",
       "  <tbody>\n",
       "    <tr>\n",
       "      <th>0</th>\n",
       "      <td>6</td>\n",
       "      <td>2</td>\n",
       "      <td>7</td>\n",
       "      <td>c30df0f4-a2d9-426e-a2dd-2cc3aa4d9205</td>\n",
       "      <td>2008-07-31T22:17:57.883</td>\n",
       "      <td>9</td>\n",
       "      <td>The explicit cast to double in the first answe...</td>\n",
       "    </tr>\n",
       "    <tr>\n",
       "      <th>1</th>\n",
       "      <td>12</td>\n",
       "      <td>1</td>\n",
       "      <td>17</td>\n",
       "      <td>0421fb42-a29a-4cb2-84ba-a828725410f8</td>\n",
       "      <td>2008-08-01T05:09:55.993</td>\n",
       "      <td>2</td>\n",
       "      <td>Binary Data in MYSQL</td>\n",
       "    </tr>\n",
       "    <tr>\n",
       "      <th>2</th>\n",
       "      <td>13</td>\n",
       "      <td>3</td>\n",
       "      <td>17</td>\n",
       "      <td>0421fb42-a29a-4cb2-84ba-a828725410f8</td>\n",
       "      <td>2008-08-01T05:09:55.993</td>\n",
       "      <td>2</td>\n",
       "      <td>&lt;database&gt;&lt;mysql&gt;</td>\n",
       "    </tr>\n",
       "    <tr>\n",
       "      <th>3</th>\n",
       "      <td>14</td>\n",
       "      <td>2</td>\n",
       "      <td>17</td>\n",
       "      <td>0421fb42-a29a-4cb2-84ba-a828725410f8</td>\n",
       "      <td>2008-08-01T05:09:55.993</td>\n",
       "      <td>2</td>\n",
       "      <td>How do I store binary data in mysql?</td>\n",
       "    </tr>\n",
       "    <tr>\n",
       "      <th>4</th>\n",
       "      <td>16</td>\n",
       "      <td>2</td>\n",
       "      <td>18</td>\n",
       "      <td>0cfdfa19-039f-4645-8a48-1c316543b98f</td>\n",
       "      <td>2008-08-01T05:12:44.193</td>\n",
       "      <td>None</td>\n",
       "      <td>For a table like this:\\r\\n\\r\\n    CREATE TABLE...</td>\n",
       "    </tr>\n",
       "  </tbody>\n",
       "</table>\n",
       "</div>"
      ],
      "text/plain": [
       "   Id PostHistoryTypeId PostId                          RevisionGUID  \\\n",
       "0   6                 2      7  c30df0f4-a2d9-426e-a2dd-2cc3aa4d9205   \n",
       "1  12                 1     17  0421fb42-a29a-4cb2-84ba-a828725410f8   \n",
       "2  13                 3     17  0421fb42-a29a-4cb2-84ba-a828725410f8   \n",
       "3  14                 2     17  0421fb42-a29a-4cb2-84ba-a828725410f8   \n",
       "4  16                 2     18  0cfdfa19-039f-4645-8a48-1c316543b98f   \n",
       "\n",
       "              CreationDate UserId  \\\n",
       "0  2008-07-31T22:17:57.883      9   \n",
       "1  2008-08-01T05:09:55.993      2   \n",
       "2  2008-08-01T05:09:55.993      2   \n",
       "3  2008-08-01T05:09:55.993      2   \n",
       "4  2008-08-01T05:12:44.193   None   \n",
       "\n",
       "                                                Text  \n",
       "0  The explicit cast to double in the first answe...  \n",
       "1                               Binary Data in MYSQL  \n",
       "2                                  <database><mysql>  \n",
       "3               How do I store binary data in mysql?  \n",
       "4  For a table like this:\\r\\n\\r\\n    CREATE TABLE...  "
      ]
     },
     "execution_count": 3,
     "metadata": {},
     "output_type": "execute_result"
    }
   ],
   "source": [
    "root = et.parse(path)\n",
    "rows = root.findall('.//row')\n",
    "\n",
    "# NESTED LIST\n",
    "xml_data = [[row.get('Id'), row.get('PostHistoryTypeId'), row.get('PostId'), row.get('RevisionGUID'), row.get('CreationDate'), row.get('UserId'), row.get('Text')] \n",
    "            for row in rows]\n",
    "\n",
    "df_xml = pd.DataFrame(xml_data, columns=dfcols)\n",
    "\n",
    "df_xml.head()"
   ]
  },
  {
   "cell_type": "code",
   "execution_count": null,
   "metadata": {},
   "outputs": [],
   "source": []
  }
 ],
 "metadata": {
  "kernelspec": {
   "display_name": "Python 3",
   "language": "python",
   "name": "python3"
  },
  "language_info": {
   "codemirror_mode": {
    "name": "ipython",
    "version": 3
   },
   "file_extension": ".py",
   "mimetype": "text/x-python",
   "name": "python",
   "nbconvert_exporter": "python",
   "pygments_lexer": "ipython3",
   "version": "3.7.4"
  }
 },
 "nbformat": 4,
 "nbformat_minor": 2
}
